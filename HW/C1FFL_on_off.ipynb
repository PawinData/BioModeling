{
 "cells": [
  {
   "cell_type": "code",
   "execution_count": 2,
   "metadata": {},
   "outputs": [],
   "source": [
    "import matplotlib.pyplot as plt\n",
    "import numpy as np"
   ]
  },
  {
   "cell_type": "code",
   "execution_count": 15,
   "metadata": {},
   "outputs": [],
   "source": [
    "time = np.linspace(-1,5, 100)"
   ]
  },
  {
   "cell_type": "markdown",
   "metadata": {},
   "source": [
    "# OFF"
   ]
  },
  {
   "cell_type": "code",
   "execution_count": 46,
   "metadata": {},
   "outputs": [
    {
     "data": {
      "text/plain": [
       "Text(0, 0.5, 'Z')"
      ]
     },
     "execution_count": 46,
     "metadata": {},
     "output_type": "execute_result"
    },
    {
     "data": {
      "image/png": "[encoded data removed]",
      "text/plain": [
       "<Figure size 360x360 with 3 Axes>"
      ]
     },
     "metadata": {},
     "output_type": "display_data"
    }
   ],
   "source": [
    "OFF, (ax1,ax2,ax3) = plt.subplots(3,1, sharex=True, figsize=(5,5))\n",
    "OFF.suptitle('OFF', fontsize=16)\n",
    "ax1.plot([-1,0,0,5], [1,1,0,0], color='navy')\n",
    "ax1.set_ylim(-0.1,1.2)\n",
    "ax1.set_yticks([])\n",
    "ax1.set_ylabel(r'$S_x$', fontsize=15, color='navy')\n",
    "ax2.plot(time, np.clip(np.exp(-time),0,1), color='darkolivegreen')\n",
    "ax2.set_ylim(-0.1,1.2)\n",
    "ax2.set_yticks([])\n",
    "ax2.set_ylabel('Y', fontsize=15, color='darkolivegreen')\n",
    "ax3.plot(time, np.clip(np.exp(-time),0,0.4), color='darksalmon')\n",
    "ax3.set_ylim(-0.1,0.8)\n",
    "ax3.set_yticks([])\n",
    "ax3.set_xticks([])\n",
    "ax3.set_xlabel('Time: t', fontsize=15)\n",
    "ax3.set_ylabel('Z', fontsize=15, color='darksalmon')\n"
   ]
  },
  {
   "cell_type": "markdown",
   "metadata": {},
   "source": [
    "# ON"
   ]
  },
  {
   "cell_type": "code",
   "execution_count": 58,
   "metadata": {
    "collapsed": true
   },
   "outputs": [
    {
     "name": "stderr",
     "output_type": "stream",
     "text": [
      "<ipython-input-58-d880a2ac0e9f>:7: RuntimeWarning: divide by zero encountered in log\n",
      "  az2.plot(time, np.clip(np.log(time+1)*0.5,0,1), color='darkgreen')\n",
      "<ipython-input-58-d880a2ac0e9f>:11: RuntimeWarning: divide by zero encountered in log\n",
      "  az3.plot(time, np.clip(np.log(time+1)*0.5,0,1), color='darkorange')\n"
     ]
    },
    {
     "data": {
      "text/plain": [
       "Text(0, 0.5, 'Z')"
      ]
     },
     "execution_count": 58,
     "metadata": {},
     "output_type": "execute_result"
    },
    {
     "data": {
      "image/png": "[encoded data removed]",
      "text/plain": [
       "<Figure size 360x360 with 3 Axes>"
      ]
     },
     "metadata": {},
     "output_type": "display_data"
    }
   ],
   "source": [
    "ON, (az1,az2,az3) = plt.subplots(3,1, sharex=True, figsize=(5,5))\n",
    "ON.suptitle('ON', fontsize=16)\n",
    "az1.plot([-1,0,0,5], [0,0,1,1], color='darkblue')\n",
    "az1.set_ylim(-0.1,1.2)\n",
    "az1.set_yticks([])\n",
    "az1.set_ylabel(r'$S_x$', fontsize=15, color='darkblue')\n",
    "az2.plot(time, np.clip(np.log(time+1)*0.5,0,1), color='darkgreen')\n",
    "az2.set_ylim(-0.1,1.2)\n",
    "az2.set_yticks([])\n",
    "az2.set_ylabel('Y', fontsize=15, color='darkgreen')\n",
    "az3.plot(time, np.clip(np.log(time+1)*0.5,0,1), color='darkorange')\n",
    "az3.set_ylim(-0.1,1.5)\n",
    "az3.set_yticks([])\n",
    "az3.set_xticks([])\n",
    "az3.set_xlabel('Time: t', fontsize=15)\n",
    "az3.set_ylabel('Z', fontsize=15, color='darkorange')"
   ]
  },
  {
   "cell_type": "code",
   "execution_count": null,
   "metadata": {},
   "outputs": [],
   "source": []
  }
 ],
 "metadata": {
  "kernelspec": {
   "display_name": "Python 3",
   "language": "python",
   "name": "python3"
  },
  "language_info": {
   "codemirror_mode": {
    "name": "ipython",
    "version": 3
   },
   "file_extension": ".py",
   "mimetype": "text/x-python",
   "name": "python",
   "nbconvert_exporter": "python",
   "pygments_lexer": "ipython3",
   "version": "3.8.3rc1"
  }
 },
 "nbformat": 4,
 "nbformat_minor": 4
}
